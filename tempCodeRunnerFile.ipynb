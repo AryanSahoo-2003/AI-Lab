def count_negatives(nums):
    """Return the number of negative numbers in the given list.
    
    >>> count_negatives([5, -1, -2, 0, 3])
    2
    """
    return len([helpi for helpi in nums if helpi<0])